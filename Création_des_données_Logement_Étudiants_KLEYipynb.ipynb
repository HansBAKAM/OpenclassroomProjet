{
  "nbformat": 4,
  "nbformat_minor": 0,
  "metadata": {
    "colab": {
      "provenance": [],
      "include_colab_link": true
    },
    "kernelspec": {
      "name": "python3",
      "display_name": "Python 3"
    },
    "language_info": {
      "name": "python"
    }
  },
  "cells": [
    {
      "cell_type": "markdown",
      "metadata": {
        "id": "view-in-github",
        "colab_type": "text"
      },
      "source": [
        "<a href=\"https://colab.research.google.com/github/HansBAKAM/OpenclassroomProjet/blob/main/Cr%C3%A9ation_des_donn%C3%A9es_Logement_%C3%89tudiants_KLEYipynb.ipynb\" target=\"_parent\"><img src=\"https://colab.research.google.com/assets/colab-badge.svg\" alt=\"Open In Colab\"/></a>"
      ]
    },
    {
      "cell_type": "code",
      "execution_count": null,
      "metadata": {
        "id": "enAS_7PINqhJ"
      },
      "outputs": [],
      "source": [
        "# Import des librairies\n",
        "import pandas as pd\n",
        "import numpy as np\n",
        "import random\n",
        "from datetime import datetime, timedelta\n",
        "\n",
        "# Générer des données sur les 5000 étudiants\n",
        "nb_etudiants = 5000\n",
        "ecoles = ['privée', 'publique']\n",
        "formation = ['Université', 'École de Commerce', 'École Spécialisée', 'IUT', 'BTS']\n",
        "\n",
        "ages = np.random.normal(21, 2, nb_etudiants).astype(int)   # Générer les ages aléatoirement et suivant la loi normale de moyenne 21 et d'écart-type 2. Ceci est fait pour que la moyenne d'age des étudiants soit de 21\n",
        "\n",
        "ecoles_etudiants = np.random.choice(ecoles, nb_etudiants)  # Attribution aléatoire d'une école à chaque étudiant\n",
        "\n",
        "formation_etudiants = np.random.choice(formation, nb_etudiants)  # Attribution aléatoire d'une formation à chaque étudiant\n",
        "\n",
        "# Générer des données sur les 30 logements\n",
        "nb_logements = 30\n",
        "types_logements = ['T1', 'T2', 'T3', 'T4', 'T5', 'T6']\n",
        "logements = np.random.choice(types_logements, nb_logements)  # Attribution aléatoire d'un type de logement à chaque étudiant\n",
        "\n",
        "# Générer des données sur les arrivées et les départs de chaque étudiant\n",
        "dates_arrivees = pd.date_range(start='2024-05-01', end='2024-09-30', periods=nb_etudiants)  # Attribution aléatoire d'une date et d'une heure d'arrivée à chaque étudiant\n",
        "\n",
        "dates_arrivees = [date.date() for date in dates_arrivees]       # Générer uniquement les date d'arrivées sous forme de liste\n",
        "\n",
        "durees_sejours = np.random.randint(1, 5*365, nb_etudiants)  # Attribution aléatoire d'une durée de séjour à chaque étudiant en partant du fait qu'un étudiant ne peut faire plus 5 ans dans un logement\n",
        "\n",
        "dates_departs = [arrivee + timedelta(days=int(duree)) for arrivee, duree in zip(dates_arrivees, durees_sejours)]\n",
        "\n",
        "# Générer des données sur les revenus mensuels dest étudiants\n",
        "revenus_mensuels = np.random.randint(500, 2000, nb_etudiants)\n",
        "\n",
        "taux_occupation = np.random.uniform(0.5, 0.95, nb_etudiants) # Générer des données sur les taux d'occupation. J'ai pris un taux compris entre 0.5 et 0.95, mais cela peut être ajuster suivant certaines conditions.\n",
        "\n",
        "# Générer des données sur les produits & services\n",
        "produits_services = ['Wi-Fi', 'Laverie', 'Salle de sport', 'Cafétéria', 'Service de nettoyage']\n",
        "consommation_produits = np.random.choice(produits_services, nb_etudiants)\n",
        "\n",
        "# Créer un DataFrame avec les données générées\n",
        "donnees = pd.DataFrame({\n",
        "    'Age': ages,\n",
        "    'formation' : formation_etudiants,\n",
        "    'Ecole': ecoles_etudiants,\n",
        "    'Type Logement': np.random.choice(logements, nb_etudiants),\n",
        "    'Date Arrivée': dates_arrivees,\n",
        "    'Date Départ': dates_departs,\n",
        "    'Revenu Mensuel (€)': revenus_mensuels,\n",
        "    'Taux Occupation': taux_occupation,\n",
        "    'Produit/Service Consommé': consommation_produits\n",
        "})\n",
        "# Afficher les dix premières lignes du DataFrame\n",
        "donnees\n"
      ]
    },
    {
      "cell_type": "code",
      "source": [
        "# Export du jeux de données\n",
        "donnees.to_csv('donnees_kley.csv', index=False)"
      ],
      "metadata": {
        "id": "qOLkdf5AcEFb"
      },
      "execution_count": null,
      "outputs": []
    }
  ]
}